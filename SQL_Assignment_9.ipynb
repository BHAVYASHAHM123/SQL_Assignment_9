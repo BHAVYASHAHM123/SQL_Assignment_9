{
  "nbformat": 4,
  "nbformat_minor": 0,
  "metadata": {
    "colab": {
      "name": "SQL_Assignment_9.ipynb",
      "provenance": []
    },
    "kernelspec": {
      "name": "python3",
      "display_name": "Python 3"
    },
    "language_info": {
      "name": "python"
    }
  },
  "cells": [
    {
      "cell_type": "markdown",
      "source": [
        "Q17) Write an SQL query to show the top n (say 10) records of a table.\n",
        "\n",
        "Ans) \n",
        "Select TOP 10 * FROM Workers ORDER BY Salary DESC LIMIT 10;"
      ],
      "metadata": {
        "id": "Y8-9ODhe73Pl"
      }
    },
    {
      "cell_type": "markdown",
      "source": [
        "Q18) Write an SQL query to determine the nth (say n=5) highest salary from a table.\n",
        "\n",
        "Ans) \n",
        "\n",
        "Select Emp_name from table_name where Salary =( Select Salary from table_name order by Salary DESC limit n-1,1);"
      ],
      "metadata": {
        "id": "cPcBJ0Qe73MK"
      }
    },
    {
      "cell_type": "markdown",
      "source": [
        ""
      ],
      "metadata": {
        "id": "EHe2LCT_73JU"
      }
    },
    {
      "cell_type": "markdown",
      "source": [
        ""
      ],
      "metadata": {
        "id": "sBXFg7Ko73Gj"
      }
    },
    {
      "cell_type": "code",
      "execution_count": null,
      "metadata": {
        "id": "ydPUaJcV72Kn"
      },
      "outputs": [],
      "source": [
        ""
      ]
    }
  ]
}